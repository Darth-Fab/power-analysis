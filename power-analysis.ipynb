{
 "cells": [
  {
   "cell_type": "markdown",
   "id": "45a7244a-c79d-4e0a-816b-4d4c8ca892bc",
   "metadata": {},
   "source": [
    "## Power Analysis "
   ]
  },
  {
   "cell_type": "code",
   "execution_count": null,
   "id": "c5bc25f0-fdfc-466e-9eb9-535b38a15671",
   "metadata": {},
   "outputs": [],
   "source": [
    "from statsmodels.stats.power import FTestAnovaPower\n",
    "\n",
    "# Parameters\n",
    "effect_size = 0.72\n",
    "alpha = 0.05\n",
    "power = 0.80\n",
    "groups = 3\n",
    "\n",
    "# Initialize power analysis object\n",
    "power_analysis = FTestAnovaPower()\n",
    "\n",
    "# Perform power analysis to get sample size per group\n",
    "sample_size_per_group = power_analysis.solve_power(effect_size=effect_size, nobs=None, alpha=alpha, power=power, k_groups=groups)\n",
    "\n",
    "# Calculate total sample size\n",
    "total_sample_size = sample_size_per_group * groups\n",
    "\n",
    "print(\"Total Sample Size:\", total_sample_size)"
   ]
  }
 ],
 "metadata": {
  "kernelspec": {
   "display_name": "Python 3 (ipykernel)",
   "language": "python",
   "name": "python3"
  },
  "language_info": {
   "codemirror_mode": {
    "name": "ipython",
    "version": 3
   },
   "file_extension": ".py",
   "mimetype": "text/x-python",
   "name": "python",
   "nbconvert_exporter": "python",
   "pygments_lexer": "ipython3",
   "version": "3.8.5"
  }
 },
 "nbformat": 4,
 "nbformat_minor": 5
}
